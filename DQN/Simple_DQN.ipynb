{
 "cells": [
  {
   "cell_type": "markdown",
   "metadata": {},
   "source": [
    "# Importing dependancies"
   ]
  },
  {
   "cell_type": "code",
   "execution_count": null,
   "metadata": {},
   "outputs": [],
   "source": [
    "import gym\n",
    "\n",
    "import numpy as np\n",
    "import random\n",
    "from collection import deque\n",
    "\n",
    "from PIL import Image\n",
    "\n",
    "import torch\n",
    "import torch.nn as nn\n",
    "import torch.optim as optim\n",
    "import torch.nn.functional as F\n",
    "import torchvision.transforms as T"
   ]
  },
  {
   "cell_type": "markdown",
   "metadata": {},
   "source": [
    "# Defining Hyperparameters"
   ]
  },
  {
   "cell_type": "code",
   "execution_count": null,
   "metadata": {},
   "outputs": [],
   "source": [
    "memory_len = 5000\n",
    "\n",
    "epochs = 50\n",
    "batch_size = 64\n",
    "\n",
    "exploration_rate = 1\n",
    "exploration_rate_decay = 0.999\n",
    "exploration_rate_min = 0.1"
   ]
  },
  {
   "cell_type": "code",
   "execution_count": null,
   "metadata": {},
   "outputs": [],
   "source": [
    "env = gym.make('CartPole-v0').unwrapped \n",
    "memory = deque(maxlen=memory_len)\n",
    "device = torch.device(\"cuda\" if torch.cuda.is_available() else \"cpu\")"
   ]
  },
  {
   "cell_type": "markdown",
   "metadata": {},
   "source": [
    "# Model definition"
   ]
  },
  {
   "cell_type": "code",
   "execution_count": null,
   "metadata": {},
   "outputs": [],
   "source": [
    "class DQN(nn.Module):\n",
    "\n",
    "    def __init__(self, input_shape, output_size):\n",
    "        super(DQN, self).__init__()\n",
    "        self.conv1 = nn.Conv2d(3, 16, kernel_size=3, padding='same')\n",
    "        self.conv2 = nn.Conv2d(16, 32, kernel_size=5, padding='same')\n",
    "        self.conv2 = nn.Conv2d(32, 32, kernel_size=5, padding='same')\n",
    "        self.bn1 = nn.BatchNorm2d(16)\n",
    "        self.bn2 = nn.BatchNorm2d(32)\n",
    "        self.bn3 = nn.BatchNorm2d(32)\n",
    "        linear_input = input_shape[0] * input_shape[1] * 32\n",
    "        self.fn1 = nn.Linear(linear_input, output_size * 2)\n",
    "        self.fn1 = nn.Linear(output_size * 2, output_size)\n",
    "\n",
    "    def forward(self, x):\n",
    "        x = x.to(device)\n",
    "        x = F.ReLU(self.bn1(self.conv1(x)))\n",
    "        x = F.ReLU(self.bn2(self.conv2(x)))\n",
    "        x = F.ReLU(self.bn3(self.conv3(x)))\n",
    "        x = x.view(x.size(0), -1) # flatten\n",
    "        x = F.ReLU(self.fn1(x))\n",
    "        x = F.ReLU(self.fn2(x))\n",
    "        return x\n"
   ]
  }
 ],
 "metadata": {
  "language_info": {
   "name": "python"
  },
  "orig_nbformat": 4
 },
 "nbformat": 4,
 "nbformat_minor": 2
}
